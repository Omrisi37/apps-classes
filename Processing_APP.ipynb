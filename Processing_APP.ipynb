{
  "nbformat": 4,
  "nbformat_minor": 0,
  "metadata": {
    "colab": {
      "provenance": [],
      "authorship_tag": "ABX9TyNcA/Y5mxmCS1x7OUwqPLhl",
      "include_colab_link": true
    },
    "kernelspec": {
      "name": "python3",
      "display_name": "Python 3"
    },
    "language_info": {
      "name": "python"
    }
  },
  "cells": [
    {
      "cell_type": "markdown",
      "metadata": {
        "id": "view-in-github",
        "colab_type": "text"
      },
      "source": [
        "<a href=\"https://colab.research.google.com/github/Omrisi37/apps-classes/blob/main/Processing_APP.ipynb\" target=\"_parent\"><img src=\"https://colab.research.google.com/assets/colab-badge.svg\" alt=\"Open In Colab\"/></a>"
      ]
    },
    {
      "cell_type": "code",
      "source": [
        "import streamlit as st\n",
        "import cv2\n",
        "import numpy as np\n",
        "from PIL import Image\n",
        "import io\n",
        "import matplotlib.pyplot as plt\n",
        "\n",
        "def load_image(uploaded_file):\n",
        "    if uploaded_file is not None:\n",
        "        image_bytes = np.asarray(bytearray(uploaded_file.read()), dtype=np.uint8)\n",
        "        image = cv2.imdecode(image_bytes, 1)\n",
        "        return image\n",
        "    return None\n",
        "\n",
        "def display_image(image, title=\"Image\"):\n",
        "    if image is None:\n",
        "        st.write(\"No image to display.\")\n",
        "        return\n",
        "\n",
        "    image_rgb = cv2.cvtColor(image, cv2.COLOR_BGR2RGB)\n",
        "    fig, ax = plt.subplots(figsize=(6, 8))\n",
        "    ax.imshow(image_rgb)\n",
        "    ax.set_title(title)\n",
        "    ax.axis('off')\n",
        "    st.pyplot(fig)\n",
        "\n",
        "def apply_filter(image, filter_type, sigma=1):\n",
        "    if image is None:\n",
        "        st.write(\"No image uploaded.\")\n",
        "        return None\n",
        "\n",
        "    gray = cv2.cvtColor(image, cv2.COLOR_BGR2GRAY)\n",
        "\n",
        "    if filter_type == 'Mean':\n",
        "        return cv2.blur(image, (5, 5))\n",
        "    elif filter_type == 'Gaussian':\n",
        "        kernel_size = int(2 * round(3 * abs(sigma)) + 1)\n",
        "        return cv2.GaussianBlur(image, (kernel_size, kernel_size), sigma)\n",
        "    elif filter_type == 'Canny':\n",
        "        blurred = cv2.GaussianBlur(gray, (5, 5), sigma)\n",
        "        return cv2.Canny(blurred, 100, 200)\n",
        "    else:\n",
        "        return image\n",
        "\n",
        "st.title(\"Image Processing App\")\n",
        "\n",
        "uploaded_file = st.file_uploader(\"Choose an image...\", type=[\"jpg\", \"jpeg\", \"png\"])\n",
        "\n",
        "if uploaded_file is not None:\n",
        "    original_image = load_image(uploaded_file)\n",
        "    st.subheader(\"Original Image\")\n",
        "    display_image(original_image)\n",
        "\n",
        "    filter_type = st.selectbox('Select Filter:', ['Mean', 'Gaussian', 'Canny'])\n",
        "    sigma = st.slider('Sigma:', 0.1, 10.0, 1.0, 0.1)\n",
        "\n",
        "    if st.button(\"Apply Filter\"):\n",
        "        processed_image = apply_filter(original_image, filter_type, sigma)\n",
        "        st.subheader(f\"{filter_type} Filtered Image\")\n",
        "        display_image(processed_image)\n",
        "\n",
        "        if processed_image is not None:\n",
        "            # Convert the processed image to bytes\n",
        "            is_success, buffer = cv2.imencode(\".png\", processed_image)\n",
        "            if is_success:\n",
        "                btn = st.download_button(\n",
        "                    label=\"Download Filtered Image\",\n",
        "                    data=buffer.tobytes(),\n",
        "                    file_name=\"filtered_image.png\",\n",
        "                    mime=\"image/png\"\n",
        "                )\n"
      ],
      "metadata": {
        "id": "2kfqY-bxg6qR"
      },
      "execution_count": null,
      "outputs": []
    }
  ]
}